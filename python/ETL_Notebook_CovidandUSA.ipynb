{
 "cells": [
  {
   "cell_type": "markdown",
   "metadata": {
    "id": "FJ_2fmgijXIf"
   },
   "source": [
    "[![Open In Colab](https://colab.research.google.com/assets/colab-badge.svg)](https://colab.research.google.com/github.com/onedataengineer21/notebooks/blob/main/python/Exploring%20Chicago%20Crimes%20Data%202022.ipynb)"
   ]
  },
  {
   "cell_type": "markdown",
   "metadata": {
    "id": "EUcGfAcQjWk-"
   },
   "source": [
    "\n",
    "\n",
    "```\n",
    "# This is formatted as code\n",
    "```\n",
    "\n",
    "Covid 19 was the biggest pandemic which was faced by the people for over a century. We again proved that humans cannot come together to solve a problem quickly. Millions of people lost their lives and livelihood and yet we all are living like nothing happened without being grateful for being alive today."
   ]
  },
  {
   "cell_type": "code",
   "execution_count": 37,
   "metadata": {
    "colab": {
     "base_uri": "https://localhost:8080/"
    },
    "id": "3IQE4tM2Q9pp",
    "outputId": "d02eb5a4-5248-4ec0-8ed4-1fcff226dc01"
   },
   "outputs": [
    {
     "name": "stdout",
     "output_type": "stream",
     "text": [
      "100% [....................................................] 35871900 / 35871900\n",
      "Saved under us-counties-2020 (4).csv\n",
      "100% [....................................................] 50311433 / 50311433\n",
      "Saved under us-counties-2021 (4).csv\n",
      "100% [....................................................] 51200840 / 51200840\n",
      "Saved under us-counties-2022 (4).csv\n",
      "100% [....................................................] 11541836 / 11541836\n",
      "Saved under us-counties-2023 (4).csv\n"
     ]
    }
   ],
   "source": [
    "!python -m wget https://raw.githubusercontent.com/nytimes/covid-19-data/master/us-counties-2020.csv\n",
    "!python -m wget https://raw.githubusercontent.com/nytimes/covid-19-data/master/us-counties-2021.csv\n",
    "!python -m wget https://raw.githubusercontent.com/nytimes/covid-19-data/master/us-counties-2022.csv\n",
    "!python -m wget https://raw.githubusercontent.com/nytimes/covid-19-data/master/us-counties-2023.csv"
   ]
  },
  {
   "cell_type": "code",
   "execution_count": 38,
   "metadata": {
    "id": "G_lzpAcLjWk_"
   },
   "outputs": [],
   "source": [
    "## importing the packages\n",
    "import pandas as pd\n",
    "import os\n",
    "from pathlib import Path\n",
    "import duckdb\n",
    "import numpy as np\n",
    "\n",
    "# Get the current working directory\n",
    "current_working_directory = os.getcwd()\n",
    "\n",
    "# Convert the current working directory to a Path object\n",
    "script_dir = Path(current_working_directory)"
   ]
  },
  {
   "cell_type": "markdown",
   "metadata": {
    "id": "5MeQzxTHRevD"
   },
   "source": [
    "### Extracting the datasets of the US counties from the NY times github repo\n",
    "\n",
    "\n",
    "* We are pulling datasets of the US counties from 2020 to 2023\n",
    "* Each of these datasets are in csv format"
   ]
  },
  {
   "cell_type": "code",
   "execution_count": 39,
   "metadata": {
    "id": "BwB1rmWzR3jf"
   },
   "outputs": [],
   "source": [
    "def extract_data(dataset_path):\n",
    "    \"\"\"\n",
    "    Extract the covid datasets from the csv file into dataframe and return the dataframe\n",
    "\n",
    "    Parameters\n",
    "    ----------\n",
    "    dataset_path : str\n",
    "        Name of the path and the file name \n",
    "    \"\"\"\n",
    "    try:\n",
    "        covid = pd.read_csv(dataset_path)\n",
    "    except FileNotFoundError:\n",
    "        print(\"File not found.\")\n",
    "    except pd.errors.EmptyDataError:\n",
    "        print(\"No data\")\n",
    "    except pd.errors.ParserError:\n",
    "        print(\"Parse error\")\n",
    "    return covid"
   ]
  },
  {
   "cell_type": "markdown",
   "metadata": {
    "id": "I1YU7LTrTWtR"
   },
   "source": [
    "### Transform the dataset\n",
    "\n",
    "* Merged all the datasets from 2020 to 2023.\n",
    "* Add new columns to the dataset - DailyCases and DailyDeaths\n",
    "* Filter the data to a given state"
   ]
  },
  {
   "cell_type": "code",
   "execution_count": 40,
   "metadata": {
    "id": "5F_-g4E2S3_m"
   },
   "outputs": [],
   "source": [
    "def transform(df_list, statename):\n",
    "    \"\"\"\n",
    "    Transform the dataframes by concatinating all the given dataframes\n",
    "    Filter the dataframe for the given statename\n",
    "    Create new columns - DailyCases and DailyDeaths\n",
    "    Return the transformed dataframe\n",
    "\n",
    "    Parameters\n",
    "    ----------\n",
    "    df_list : list\n",
    "        list of dataframe names\n",
    "    statename : str\n",
    "        Name of the state to be used to filter the records\n",
    "    \"\"\"\n",
    "    ### Concating the dataframes into one single dataframe\n",
    "    covid = pd.concat(df_list)\n",
    "\n",
    "    ### Filtering the dataframe for the given state\n",
    "    covid = covid[covid.state == statename]\n",
    "\n",
    "    ### Adding Daily cases and Daily Deaths\n",
    "    covid = covid[covid.state == statename].sort_values(by=['county', 'date'])\n",
    "    covid['DailyCases'] = covid['cases'].diff().fillna(0).astype('Int64')\n",
    "    covid['DailyDeaths'] = covid['deaths'].diff().fillna(0).astype('Int64')\n",
    "\n",
    "    return covid"
   ]
  },
  {
   "cell_type": "markdown",
   "metadata": {},
   "source": [
    "### Loading the data to csv files"
   ]
  },
  {
   "cell_type": "code",
   "execution_count": 41,
   "metadata": {},
   "outputs": [],
   "source": [
    "def load(data, name):\n",
    "    \"\"\"\n",
    "    Load the dataset in the csv format to the path given along with the file name\n",
    "\n",
    "    Parameters\n",
    "    ----------\n",
    "    data : dataframe\n",
    "        name of the transformed dataframe\n",
    "    name : str\n",
    "        Name of the state along with the path where to write the csv file\n",
    "    \"\"\"\n",
    "    data.to_csv(name + \".csv\")"
   ]
  },
  {
   "cell_type": "code",
   "execution_count": 42,
   "metadata": {
    "id": "_piVEZHb34Qj"
   },
   "outputs": [],
   "source": [
    "def generate_covidreport_statewise(statename):\n",
    "    \"\"\"\n",
    "    \"\"\"\n",
    "    try:\n",
    "        print(f\"Generating the report for the state ::: {statename}\")\n",
    "        ##extracting the data\n",
    "        covid2020 = extract_data(\"us-counties-2020.csv\")\n",
    "        covid2021 = extract_data(\"us-counties-2021.csv\")\n",
    "        covid2022 = extract_data(\"us-counties-2022.csv\")\n",
    "        covid2023 = extract_data(\"us-counties-2023.csv\")\n",
    " \n",
    "        ##transforming the data\n",
    "        covid = transform([covid2020, covid2021, covid2022, covid2023], statename)\n",
    "        \n",
    "        ##loading the dataset\n",
    "        load(covid, \"data/output/covid/\" + statename)\n",
    "        print(f\"Report generation completed\")\n",
    "    except Exception:\n",
    "      print(\"Exception in the report generation\")\n",
    "      print(exception)\n",
    "    \n",
    "    "
   ]
  },
  {
   "cell_type": "code",
   "execution_count": 44,
   "metadata": {},
   "outputs": [
    {
     "name": "stdout",
     "output_type": "stream",
     "text": [
      "Generating the report for the state ::: Alaska\n",
      "Report generation completed\n",
      "Generating the report for the state ::: Alabama\n",
      "Report generation completed\n",
      "Generating the report for the state ::: Arkansas\n",
      "Report generation completed\n",
      "Generating the report for the state ::: American Samoa\n",
      "Report generation completed\n",
      "Generating the report for the state ::: Arizona\n",
      "Report generation completed\n",
      "Generating the report for the state ::: California\n",
      "Report generation completed\n",
      "Generating the report for the state ::: Colorado\n",
      "Report generation completed\n",
      "Generating the report for the state ::: Connecticut\n",
      "Report generation completed\n",
      "Generating the report for the state ::: District \n",
      "Report generation completed\n",
      "Generating the report for the state ::: of Columbia\n",
      "Report generation completed\n",
      "Generating the report for the state ::: Delaware\n",
      "Report generation completed\n",
      "Generating the report for the state ::: Florida\n",
      "Report generation completed\n",
      "Generating the report for the state ::: Georgia\n",
      "Report generation completed\n",
      "Generating the report for the state ::: Guam\n",
      "Report generation completed\n",
      "Generating the report for the state ::: Hawaii\n",
      "Report generation completed\n",
      "Generating the report for the state ::: Iowa\n",
      "Report generation completed\n",
      "Generating the report for the state ::: Idaho\n",
      "Report generation completed\n",
      "Generating the report for the state ::: Illinois\n",
      "Report generation completed\n",
      "Generating the report for the state ::: Indiana\n",
      "Report generation completed\n",
      "Generating the report for the state ::: Kansas\n",
      "Report generation completed\n",
      "Generating the report for the state ::: Kentucky\n",
      "Report generation completed\n",
      "Generating the report for the state ::: Louisiana\n",
      "Report generation completed\n",
      "Generating the report for the state ::: Massachusetts\n",
      "Report generation completed\n",
      "Generating the report for the state ::: Maryland\n",
      "Report generation completed\n",
      "Generating the report for the state ::: Maine\n",
      "Report generation completed\n",
      "Generating the report for the state ::: Michigan\n",
      "Report generation completed\n",
      "Generating the report for the state ::: Minnesota\n",
      "Report generation completed\n",
      "Generating the report for the state ::: Missouri\n",
      "Report generation completed\n",
      "Generating the report for the state ::: Mississippi\n",
      "Report generation completed\n",
      "Generating the report for the state ::: Montana\n",
      "Report generation completed\n",
      "Generating the report for the state ::: North Carolina\n",
      "Report generation completed\n",
      "Generating the report for the state ::: North Dakota\n",
      "Report generation completed\n",
      "Generating the report for the state ::: Nebraska\n",
      "Report generation completed\n",
      "Generating the report for the state ::: New Hampshire\n",
      "Report generation completed\n",
      "Generating the report for the state ::: New Jersey\n",
      "Report generation completed\n",
      "Generating the report for the state ::: New Mexico\n",
      "Report generation completed\n",
      "Generating the report for the state ::: Nevada\n",
      "Report generation completed\n",
      "Generating the report for the state ::: New York\n",
      "Report generation completed\n",
      "Generating the report for the state ::: Ohio\n",
      "Report generation completed\n",
      "Generating the report for the state ::: Oklahoma\n",
      "Report generation completed\n",
      "Generating the report for the state ::: Oregon\n",
      "Report generation completed\n",
      "Generating the report for the state ::: Pennsylvania\n",
      "Report generation completed\n",
      "Generating the report for the state ::: Puerto Rico\n",
      "Report generation completed\n",
      "Generating the report for the state ::: Rhode Island\n",
      "Report generation completed\n",
      "Generating the report for the state ::: South Carolina\n",
      "Report generation completed\n",
      "Generating the report for the state ::: South Dakota\n",
      "Report generation completed\n",
      "Generating the report for the state ::: Tennessee\n",
      "Report generation completed\n",
      "Generating the report for the state ::: Texas\n",
      "Report generation completed\n",
      "Generating the report for the state ::: Utah\n",
      "Report generation completed\n",
      "Generating the report for the state ::: Virginia\n",
      "Report generation completed\n",
      "Generating the report for the state ::: Virgin Islands\n",
      "Report generation completed\n",
      "Generating the report for the state ::: Vermont\n",
      "Report generation completed\n",
      "Generating the report for the state ::: Washington\n",
      "Report generation completed\n",
      "Generating the report for the state ::: Wisconsin\n",
      "Report generation completed\n",
      "Generating the report for the state ::: West Virginia\n",
      "Report generation completed\n",
      "Generating the report for the state ::: Wyoming\n",
      "Report generation completed\n"
     ]
    }
   ],
   "source": [
    "state_names = [\"Alaska\", \"Alabama\", \"Arkansas\", \"American Samoa\", \"Arizona\", \"California\", \"Colorado\", \"Connecticut\", \"District \", \"of Columbia\", \"Delaware\", \"Florida\", \"Georgia\", \"Guam\", \"Hawaii\", \"Iowa\", \"Idaho\", \"Illinois\", \"Indiana\", \"Kansas\", \"Kentucky\", \"Louisiana\", \"Massachusetts\", \"Maryland\", \"Maine\", \"Michigan\", \"Minnesota\", \"Missouri\", \"Mississippi\", \"Montana\", \"North Carolina\", \"North Dakota\", \"Nebraska\", \"New Hampshire\", \"New Jersey\", \"New Mexico\", \"Nevada\", \"New York\", \"Ohio\", \"Oklahoma\", \"Oregon\", \"Pennsylvania\", \"Puerto Rico\", \"Rhode Island\", \"South Carolina\", \"South Dakota\", \"Tennessee\", \"Texas\", \"Utah\", \"Virginia\", \"Virgin Islands\", \"Vermont\", \"Washington\", \"Wisconsin\", \"West Virginia\", \"Wyoming\"]\n",
    "for state in state_names:\n",
    "    generate_covidreport_statewise(state)"
   ]
  }
 ],
 "metadata": {
  "colab": {
   "provenance": []
  },
  "kernelspec": {
   "display_name": "Python 3 (ipykernel)",
   "language": "python",
   "name": "python3"
  },
  "language_info": {
   "codemirror_mode": {
    "name": "ipython",
    "version": 3
   },
   "file_extension": ".py",
   "mimetype": "text/x-python",
   "name": "python",
   "nbconvert_exporter": "python",
   "pygments_lexer": "ipython3",
   "version": "3.11.5"
  }
 },
 "nbformat": 4,
 "nbformat_minor": 1
}
